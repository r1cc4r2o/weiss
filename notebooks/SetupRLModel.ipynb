{
 "cells": [
  {
   "cell_type": "markdown",
   "metadata": {},
   "source": [
    "# Dictionary format of the prior for RL\n",
    "\n"
   ]
  },
  {
   "cell_type": "markdown",
   "metadata": {},
   "source": [
    "If you want to change the weights of the prior model in the same hyperparameters configuration, either for Mol2Mol or Mol2MolWEISS, you can use the following dictionary changing just the values in the network_state. On the other hand, if you want to change the hyperparameters, you can change the values in the hyperparameters dictionary and the network_state dictionary. The vocabulary is in form of a dictionary."
   ]
  },
  {
   "cell_type": "code",
   "execution_count": 35,
   "metadata": {},
   "outputs": [
    {
     "name": "stderr",
     "output_type": "stream",
     "text": [
      "/var/folders/2q/tcysqlyn7v31hwmcd0v1qd100000gn/T/ipykernel_82397/1472950965.py:3: FutureWarning: You are using `torch.load` with `weights_only=False` (the current default value), which uses the default pickle module implicitly. It is possible to construct malicious pickle data which will execute arbitrary code during unpickling (See https://github.com/pytorch/pytorch/blob/main/SECURITY.md#untrusted-models for more details). In a future release, the default value for `weights_only` will be flipped to `True`. This limits the functions that could be executed during unpickling. Arbitrary objects will no longer be allowed to be loaded via this mode unless they are explicitly allowlisted by the user via `torch.serialization.add_safe_globals`. We recommend you start setting `weights_only=True` for any use case where you don't have full control of the loaded file. Please open an issue on GitHub for any issues related to this experimental feature.\n",
      "  cpk = torch.load('checkpoints/one2one_prior.pt')\n"
     ]
    }
   ],
   "source": [
    "import torch\n",
    "\n",
    "cpk = torch.load('checkpoints/one2one_prior.pt')"
   ]
  },
  {
   "cell_type": "code",
   "execution_count": 36,
   "metadata": {},
   "outputs": [
    {
     "data": {
      "text/plain": [
       "dict_keys(['network_state', 'vocabulary', 'network_parameter', 'max_sequence_length', 'model_type', 'version'])"
      ]
     },
     "execution_count": 36,
     "metadata": {},
     "output_type": "execute_result"
    }
   ],
   "source": [
    "cpk.keys()"
   ]
  },
  {
   "cell_type": "code",
   "execution_count": 37,
   "metadata": {},
   "outputs": [
    {
     "data": {
      "text/plain": [
       "{'tokens': {'<PAD>': 0,\n",
       "  '^': 1,\n",
       "  '$': 2,\n",
       "  '<UNK>': 3,\n",
       "  '#': 4,\n",
       "  '(': 5,\n",
       "  ')': 6,\n",
       "  '-': 7,\n",
       "  '/': 8,\n",
       "  '1': 9,\n",
       "  '2': 10,\n",
       "  '3': 11,\n",
       "  '4': 12,\n",
       "  '5': 13,\n",
       "  '6': 14,\n",
       "  '7': 15,\n",
       "  '=': 16,\n",
       "  'Br': 17,\n",
       "  'C': 18,\n",
       "  'Cl': 19,\n",
       "  'F': 20,\n",
       "  'I': 21,\n",
       "  'N': 22,\n",
       "  'O': 23,\n",
       "  'S': 24,\n",
       "  '[11CH3]': 25,\n",
       "  '[11C]': 26,\n",
       "  '[11c]': 27,\n",
       "  '[123I]': 28,\n",
       "  '[18F]': 29,\n",
       "  '[19F]': 30,\n",
       "  '[76Br]': 31,\n",
       "  '[C@@H]': 32,\n",
       "  '[C@@]': 33,\n",
       "  '[C@H]': 34,\n",
       "  '[C@]': 35,\n",
       "  '[N+]': 36,\n",
       "  '[N@+]': 37,\n",
       "  '[N@@+]': 38,\n",
       "  '[N@]': 39,\n",
       "  '[O-]': 40,\n",
       "  '[O]': 41,\n",
       "  '[S@@]': 42,\n",
       "  '[S@]': 43,\n",
       "  '[n+]': 44,\n",
       "  '[nH]': 45,\n",
       "  '\\\\': 46,\n",
       "  'c': 47,\n",
       "  'n': 48,\n",
       "  'o': 49,\n",
       "  's': 50},\n",
       " 'pad_token': 0,\n",
       " 'bos_token': 1,\n",
       " 'eos_token': 2,\n",
       " 'unk_token': 3}"
      ]
     },
     "execution_count": 37,
     "metadata": {},
     "output_type": "execute_result"
    }
   ],
   "source": [
    "cpk['vocabulary']"
   ]
  },
  {
   "cell_type": "code",
   "execution_count": 38,
   "metadata": {},
   "outputs": [
    {
     "data": {
      "text/plain": [
       "{'vocabulary_size': 51,\n",
       " 'num_heads': 8,\n",
       " 'num_layers': 6,\n",
       " 'dropout': 0.1,\n",
       " 'layer_norm_eps': 1e-06,\n",
       " 'd_model': 256,\n",
       " 'dim_feedforward': 2048}"
      ]
     },
     "execution_count": 38,
     "metadata": {},
     "output_type": "execute_result"
    }
   ],
   "source": [
    "cpk['network_parameter']"
   ]
  },
  {
   "cell_type": "code",
   "execution_count": 39,
   "metadata": {},
   "outputs": [
    {
     "data": {
      "text/plain": [
       "128"
      ]
     },
     "execution_count": 39,
     "metadata": {},
     "output_type": "execute_result"
    }
   ],
   "source": [
    "cpk['max_sequence_length']\n"
   ]
  },
  {
   "cell_type": "code",
   "execution_count": 40,
   "metadata": {},
   "outputs": [
    {
     "data": {
      "text/plain": [
       "'One2One'"
      ]
     },
     "execution_count": 40,
     "metadata": {},
     "output_type": "execute_result"
    }
   ],
   "source": [
    "cpk['model_type']\n"
   ]
  },
  {
   "cell_type": "code",
   "execution_count": 41,
   "metadata": {},
   "outputs": [
    {
     "data": {
      "text/plain": [
       "2"
      ]
     },
     "execution_count": 41,
     "metadata": {},
     "output_type": "execute_result"
    }
   ],
   "source": [
    "cpk['version']"
   ]
  },
  {
   "cell_type": "code",
   "execution_count": 1,
   "metadata": {},
   "outputs": [
    {
     "data": {
      "text/plain": [
       "'Ϟ'"
      ]
     },
     "execution_count": 1,
     "metadata": {},
     "output_type": "execute_result"
    }
   ],
   "source": [
    "chr(990)"
   ]
  }
 ],
 "metadata": {
  "kernelspec": {
   "display_name": "Python 3",
   "language": "python",
   "name": "python3"
  },
  "language_info": {
   "codemirror_mode": {
    "name": "ipython",
    "version": 3
   },
   "file_extension": ".py",
   "mimetype": "text/x-python",
   "name": "python",
   "nbconvert_exporter": "python",
   "pygments_lexer": "ipython3",
   "version": "3.10.0"
  }
 },
 "nbformat": 4,
 "nbformat_minor": 2
}
